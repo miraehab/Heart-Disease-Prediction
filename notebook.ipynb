{
 "cells": [
  {
   "cell_type": "markdown",
   "metadata": {},
   "source": [
    "<h1>Heart Disease Prediction</h1>"
   ]
  },
  {
   "cell_type": "markdown",
   "metadata": {},
   "source": [
    "<h3>Importing libraries</h3>"
   ]
  },
  {
   "cell_type": "code",
   "execution_count": 2,
   "metadata": {},
   "outputs": [],
   "source": [
    "import numpy as np\n",
    "import pandas as pd\n",
    "import matplotlib.pyplot as plt"
   ]
  },
  {
   "cell_type": "markdown",
   "metadata": {},
   "source": [
    "<h3>Importing Dataset</h3>"
   ]
  },
  {
   "cell_type": "code",
   "execution_count": 3,
   "metadata": {},
   "outputs": [],
   "source": [
    "dataset = pd.read_csv('heart.csv')\n",
    "X = dataset.iloc[:, :11].values\n",
    "Y = dataset.iloc[:, -1].values"
   ]
  },
  {
   "cell_type": "markdown",
   "metadata": {},
   "source": [
    "<h3>Data Preprocessing</h3>"
   ]
  },
  {
   "cell_type": "code",
   "execution_count": 12,
   "metadata": {},
   "outputs": [],
   "source": [
    "#to transform non-numerical labels to numerical labels.\n",
    "from sklearn.preprocessing import LabelEncoder\n",
    "#column in index 1\n",
    "sex = LabelEncoder()\n",
    "X[:, 1] = sex.fit_transform(X[:, 1])\n",
    "\n",
    "#column in index 2\n",
    "ChestPainType = LabelEncoder()\n",
    "X[:, 2] = ChestPainType.fit_transform(X[:, 2])\n",
    "\n",
    "#column in index 6\n",
    "RestingECG = LabelEncoder()\n",
    "X[:, 6] = RestingECG.fit_transform(X[:, 6])\n",
    "\n",
    "#column in index 8\n",
    "ExerciseAngina = LabelEncoder()\n",
    "X[:, 8] = ExerciseAngina.fit_transform(X[:, 8])\n",
    "\n",
    "#column in index 10\n",
    "ST_Slope = LabelEncoder()\n",
    "X[:, 10] = ST_Slope.fit_transform(X[:, 10])"
   ]
  },
  {
   "cell_type": "code",
   "execution_count": 14,
   "metadata": {},
   "outputs": [
    {
     "name": "stdout",
     "output_type": "stream",
     "text": [
      "[[40 1 1 ... 0 0.0 2]\n",
      " [49 0 2 ... 0 1.0 1]\n",
      " [37 1 1 ... 0 0.0 2]\n",
      " ...\n",
      " [57 1 0 ... 1 1.2 1]\n",
      " [57 0 1 ... 0 0.0 1]\n",
      " [38 1 2 ... 0 0.0 2]]\n"
     ]
    }
   ],
   "source": [
    "#check the dataset after beeing encoded\n",
    "print(X)"
   ]
  },
  {
   "cell_type": "markdown",
   "metadata": {},
   "source": [
    "<h3>Splitting Dataset into Trainning and Test set</h3>"
   ]
  },
  {
   "cell_type": "code",
   "execution_count": 16,
   "metadata": {},
   "outputs": [],
   "source": [
    "from sklearn.model_selection import train_test_split\n",
    "X_Train, X_Test, Y_Train, Y_Test = train_test_split(X, Y, test_size=0.2, random_state=0)"
   ]
  },
  {
   "cell_type": "markdown",
   "metadata": {},
   "source": [
    "<h3>Feature Scaling</h3>"
   ]
  },
  {
   "cell_type": "code",
   "execution_count": 21,
   "metadata": {},
   "outputs": [],
   "source": [
    "#to tranform the dataset in a definite range (reduce the variation)\n",
    "from sklearn.preprocessing import StandardScaler\n",
    "sc = StandardScaler()\n",
    "X_Train = sc.fit_transform(X_Train)\n",
    "X_Test = sc.fit_transform(X_Test)"
   ]
  },
  {
   "cell_type": "code",
   "execution_count": 22,
   "metadata": {},
   "outputs": [
    {
     "name": "stdout",
     "output_type": "stream",
     "text": [
      "[[ 1.75354017  0.51740017 -0.82686398 ...  1.19939076  1.0553738\n",
      "  -0.59357258]\n",
      " [-0.81787111  0.51740017 -0.82686398 ...  1.19939076  0.57784676\n",
      "  -0.59357258]\n",
      " [ 1.21782949 -1.93273999  1.27683849 ... -0.83375663 -0.0906911\n",
      "   1.0443307 ]\n",
      " ...\n",
      " [ 0.3606924  -1.93273999 -0.82686398 ... -0.83375663 -0.85473437\n",
      "   1.0443307 ]\n",
      " [ 1.11068735  0.51740017 -0.82686398 ...  1.19939076  2.96548197\n",
      "  -2.23147586]\n",
      " [-0.71072897  0.51740017  1.27683849 ... -0.83375663 -0.85473437\n",
      "   1.0443307 ]]\n"
     ]
    }
   ],
   "source": [
    "print(X_Train)"
   ]
  },
  {
   "cell_type": "markdown",
   "metadata": {},
   "source": [
    "<h3>Trainning Dataset</h3>"
   ]
  },
  {
   "cell_type": "code",
   "execution_count": 23,
   "metadata": {},
   "outputs": [
    {
     "data": {
      "text/plain": [
       "LogisticRegression()"
      ]
     },
     "execution_count": 23,
     "metadata": {},
     "output_type": "execute_result"
    }
   ],
   "source": [
    "#Logistic Regression\n",
    "from sklearn.linear_model import LogisticRegression\n",
    "logistic_model = LogisticRegression()\n",
    "logistic_model.fit(X_Train, Y_Train)"
   ]
  },
  {
   "cell_type": "code",
   "execution_count": 28,
   "metadata": {},
   "outputs": [
    {
     "data": {
      "text/plain": [
       "SVC()"
      ]
     },
     "execution_count": 28,
     "metadata": {},
     "output_type": "execute_result"
    }
   ],
   "source": [
    "#support vector machine\n",
    "from sklearn.svm import SVC\n",
    "svm_model = SVC()\n",
    "svm_model.fit(X_Train, Y_Train)"
   ]
  },
  {
   "cell_type": "code",
   "execution_count": 29,
   "metadata": {},
   "outputs": [],
   "source": [
    "Y_Pred_Log = logistic_model.predict(X_Test)\n",
    "Y_Pred_SVM = svm_model.predict(X_Test)"
   ]
  },
  {
   "cell_type": "markdown",
   "metadata": {},
   "source": [
    "<h3>Testing accuracy</h3>"
   ]
  },
  {
   "cell_type": "code",
   "execution_count": 34,
   "metadata": {},
   "outputs": [
    {
     "name": "stdout",
     "output_type": "stream",
     "text": [
      "0.8369565217391305\n"
     ]
    }
   ],
   "source": [
    "#Logistic accuracy\n",
    "from sklearn.metrics import accuracy_score\n",
    "Logistic_acc = accuracy_score(Y_Test, Y_Pred_Log)\n",
    "print(Logistic_acc)"
   ]
  },
  {
   "cell_type": "code",
   "execution_count": 35,
   "metadata": {},
   "outputs": [
    {
     "name": "stdout",
     "output_type": "stream",
     "text": [
      "0.8641304347826086\n"
     ]
    }
   ],
   "source": [
    "#SVM accuracy\n",
    "SVM_accuracy = accuracy_score(Y_Test, Y_Pred_SVM)\n",
    "print(SVM_accuracy)"
   ]
  },
  {
   "cell_type": "markdown",
   "metadata": {},
   "source": [
    "<h3>Visualizing the accuracy</h3>"
   ]
  },
  {
   "cell_type": "code",
   "execution_count": 40,
   "metadata": {},
   "outputs": [
    {
     "data": {
      "text/plain": [
       "Text(0, 0.5, 'Accuracy')"
      ]
     },
     "execution_count": 40,
     "metadata": {},
     "output_type": "execute_result"
    },
    {
     "data": {
      "image/png": "[encoded data removed]",
      "text/plain": [
       "<Figure size 720x360 with 1 Axes>"
      ]
     },
     "metadata": {
      "needs_background": "light"
     },
     "output_type": "display_data"
    }
   ],
   "source": [
    "plt.figure(figsize=(8, 4))\n",
    "plt.bar(\"Logistic Regression\", Logistic_acc, width=0.5)\n",
    "plt.bar(\"Support vector machine\", SVM_accuracy, width=0.5)\n",
    "plt.ylabel(\"Accuracy\")"
   ]
  }
 ],
 "metadata": {
  "kernelspec": {
   "display_name": "Python 3.9.7 ('base')",
   "language": "python",
   "name": "python3"
  },
  "language_info": {
   "codemirror_mode": {
    "name": "ipython",
    "version": 3
   },
   "file_extension": ".py",
   "mimetype": "text/x-python",
   "name": "python",
   "nbconvert_exporter": "python",
   "pygments_lexer": "ipython3",
   "version": "3.9.7"
  },
  "orig_nbformat": 4,
  "vscode": {
   "interpreter": {
    "hash": "5179d32cf6ec497baf3f8a3ef987cc77c5d2dc691fdde20a56316522f61a7323"
   }
  }
 },
 "nbformat": 4,
 "nbformat_minor": 2
}
